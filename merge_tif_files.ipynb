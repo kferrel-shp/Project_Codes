{
  "nbformat": 4,
  "nbformat_minor": 0,
  "metadata": {
    "colab": {
      "provenance": [],
      "authorship_tag": "ABX9TyMz1w9Ocy1U3gG0U7jKceXl"
    },
    "kernelspec": {
      "name": "python3",
      "display_name": "Python 3"
    },
    "language_info": {
      "name": "python"
    }
  },
  "cells": [
    {
      "cell_type": "code",
      "execution_count": null,
      "metadata": {
        "id": "gpPqkFvMC-xv"
      },
      "outputs": [],
      "source": [
        "# This code is used to mosaic all .tif DEM files into one large DEM\n",
        "\n",
        "\n",
        "import arcpy\n",
        "import os\n",
        "\n",
        "# Set the input folder and output mosaic path\n",
        "input_folder = r\"path_to_your_DEM_files\"\n",
        "output_mosaic = r\"path_to_your_DEM_files/name_you_want_to_give_the_mosaic.tif\"\n",
        "\n",
        "# Set the workspace and enable overwriting\n",
        "arcpy.env.workspace = input_folder\n",
        "arcpy.env.overwriteOutput = True\n",
        "\n",
        "# Create a list of DEM files\n",
        "dem_files = arcpy.ListRasters(\"*.tif\")\n",
        "\n",
        "# Mosaic the DEM files\n",
        "try:\n",
        "    arcpy.management.MosaicToNewRaster(\n",
        "        input_rasters=dem_files,\n",
        "        output_location=os.path.dirname(output_mosaic),\n",
        "        raster_dataset_name_with_extension=os.path.basename(output_mosaic),\n",
        "        #coordinate_system=\"#\",  # Keeps original projection\n",
        "        pixel_type=\"32_BIT_FLOAT\",  # Use appropriate pixel type\n",
        "        cellsize=\"#\",  # Keeps original resolution\n",
        "        number_of_bands=1,  # Single-band DEM\n",
        "        mosaic_method=\"MAXIMUM\",  # Other options: \"MEAN\", \"FIRST\"\n",
        "        mosaic_colormap_mode=\"FIRST\"\n",
        "    )\n",
        "    print(f\"Mosaic created successfully: {output_mosaic}\")\n",
        "\n",
        "    # Add the mosaic to the current map\n",
        "    #aprx = arcpy.mp.ArcGISProject(\"CURRENT\")\n",
        "    #map_obj = aprx.activeMap\n",
        "    #map_obj.addDataFromPath(output_mosaic)\n",
        "    #print(\"Mosaic added to the current map.\")\n",
        "\n",
        "except Exception as e:\n",
        "    print(f\"Error: {e}\")\n"
      ]
    }
  ]
}